{
  "nbformat": 4,
  "nbformat_minor": 0,
  "metadata": {
    "colab": {
      "name": "data_combine.ipynb",
      "provenance": [],
      "collapsed_sections": []
    },
    "kernelspec": {
      "name": "python3",
      "display_name": "Python 3"
    },
    "accelerator": "GPU"
  },
  "cells": [
    {
      "cell_type": "code",
      "metadata": {
        "id": "yU-kyHtme8C4"
      },
      "source": [
        "!pip install flair\n",
        "import nltk\n",
        "nltk.download('punkt')\n",
        "nltk.download('wordnet')"
      ],
      "execution_count": null,
      "outputs": []
    },
    {
      "cell_type": "code",
      "metadata": {
        "id": "4oGl1bsKfAQF"
      },
      "source": [
        "from flair.models import SequenceTagger\n",
        "from flair.data import Sentence\n",
        "from tqdm import tqdm"
      ],
      "execution_count": 2,
      "outputs": []
    },
    {
      "cell_type": "code",
      "metadata": {
        "id": "Oirjfyh9fTCF"
      },
      "source": [
        "ner_tagger = SequenceTagger.load('ner')"
      ],
      "execution_count": null,
      "outputs": []
    },
    {
      "cell_type": "code",
      "metadata": {
        "id": "Edj807bPfVWY",
        "outputId": "3ff517e8-473e-4dff-fe52-b27d54c9323c",
        "colab": {
          "base_uri": "https://localhost:8080/",
          "height": 53
        }
      },
      "source": [
        "from google.colab import drive\n",
        "drive.mount('/gdrive')\n",
        "%cd /gdrive"
      ],
      "execution_count": 4,
      "outputs": [
        {
          "output_type": "stream",
          "text": [
            "Mounted at /gdrive\n",
            "/gdrive\n"
          ],
          "name": "stdout"
        }
      ]
    },
    {
      "cell_type": "code",
      "metadata": {
        "id": "pzuLV4TJhsGK"
      },
      "source": [
        "import pandas as pd"
      ],
      "execution_count": 5,
      "outputs": []
    },
    {
      "cell_type": "code",
      "metadata": {
        "id": "zS6rY0YRghoJ"
      },
      "source": [
        "def get_pos_ans(text):\n",
        "  global ner_tagger \n",
        "  sentence = Sentence(text)\n",
        "  ner_tagger.predict(sentence)\n",
        "  persons = []\n",
        "  for item in sentence.get_spans('ner'):\n",
        "    if item.tag == 'PER':\n",
        "      persons.append(item.text)\n",
        "  return persons"
      ],
      "execution_count": 17,
      "outputs": []
    },
    {
      "cell_type": "code",
      "metadata": {
        "id": "RhOCch_PfjuA",
        "outputId": "79e604de-8d4e-4fd9-e2d8-5813547adefb",
        "colab": {
          "base_uri": "https://localhost:8080/",
          "height": 90
        }
      },
      "source": [
        "import os\n",
        "import tqdm\n",
        "df_final = pd.DataFrame()\n",
        "directory = '/gdrive/My Drive/NLP-datasets/final_data/'\n",
        "for filename in os.listdir(directory):\n",
        "    print(filename)\n",
        "    if filename.endswith(\".csv\"): \n",
        "         df = pd.read_csv(directory + filename)\n",
        "         df['Possible answers'] = df['Text'].apply(get_pos_ans)\n",
        "         df_final = df_final.append(df)\n",
        "    else:\n",
        "        continue\n"
      ],
      "execution_count": 23,
      "outputs": [
        {
          "output_type": "stream",
          "text": [
            "wiki_set2_data.csv\n",
            "wiki_set1_data.csv\n",
            "NYT_data.csv\n",
            "movie_data.csv\n"
          ],
          "name": "stdout"
        }
      ]
    },
    {
      "cell_type": "code",
      "metadata": {
        "id": "KUnSCsrDgbNq",
        "outputId": "ed7b22d1-5ff1-4a99-f3e6-367f2658db03",
        "colab": {
          "base_uri": "https://localhost:8080/",
          "height": 206
        }
      },
      "source": [
        "df_final.head()"
      ],
      "execution_count": 24,
      "outputs": [
        {
          "output_type": "execute_result",
          "data": {
            "text/html": [
              "<div>\n",
              "<style scoped>\n",
              "    .dataframe tbody tr th:only-of-type {\n",
              "        vertical-align: middle;\n",
              "    }\n",
              "\n",
              "    .dataframe tbody tr th {\n",
              "        vertical-align: top;\n",
              "    }\n",
              "\n",
              "    .dataframe thead th {\n",
              "        text-align: right;\n",
              "    }\n",
              "</style>\n",
              "<table border=\"1\" class=\"dataframe\">\n",
              "  <thead>\n",
              "    <tr style=\"text-align: right;\">\n",
              "      <th></th>\n",
              "      <th>Unnamed: 0</th>\n",
              "      <th>Text</th>\n",
              "      <th>Pronoun</th>\n",
              "      <th>Pronoun-offset</th>\n",
              "      <th>Answer</th>\n",
              "      <th>Answer-offset</th>\n",
              "      <th>Possible answers</th>\n",
              "    </tr>\n",
              "  </thead>\n",
              "  <tbody>\n",
              "    <tr>\n",
              "      <th>0</th>\n",
              "      <td>0</td>\n",
              "      <td>After the war, Herbert attended the University...</td>\n",
              "      <td>he</td>\n",
              "      <td>67</td>\n",
              "      <td>Herbert</td>\n",
              "      <td>67</td>\n",
              "      <td>[Herbert, Beverly]</td>\n",
              "    </tr>\n",
              "    <tr>\n",
              "      <th>1</th>\n",
              "      <td>1</td>\n",
              "      <td>Herbert was appalled to learn of senator McCar...</td>\n",
              "      <td>he</td>\n",
              "      <td>138</td>\n",
              "      <td>Herbert</td>\n",
              "      <td>138</td>\n",
              "      <td>[Herbert, McCarthy]</td>\n",
              "    </tr>\n",
              "    <tr>\n",
              "      <th>2</th>\n",
              "      <td>2</td>\n",
              "      <td>Herbert has attracted a sometimes fanatical fa...</td>\n",
              "      <td>he</td>\n",
              "      <td>96</td>\n",
              "      <td>Herbert</td>\n",
              "      <td>96</td>\n",
              "      <td>[Herbert, Herbert]</td>\n",
              "    </tr>\n",
              "    <tr>\n",
              "      <th>3</th>\n",
              "      <td>3</td>\n",
              "      <td>In 1887, after the death of his brother and a ...</td>\n",
              "      <td>he</td>\n",
              "      <td>119</td>\n",
              "      <td>Julian</td>\n",
              "      <td>119</td>\n",
              "      <td>[Norris, Julian, Zola]</td>\n",
              "    </tr>\n",
              "    <tr>\n",
              "      <th>4</th>\n",
              "      <td>4</td>\n",
              "      <td>The publication of Buechner's third novel, The...</td>\n",
              "      <td>he</td>\n",
              "      <td>125</td>\n",
              "      <td>Buechner</td>\n",
              "      <td>125</td>\n",
              "      <td>[Buechner, Buechner]</td>\n",
              "    </tr>\n",
              "  </tbody>\n",
              "</table>\n",
              "</div>"
            ],
            "text/plain": [
              "   Unnamed: 0  ...        Possible answers\n",
              "0           0  ...      [Herbert, Beverly]\n",
              "1           1  ...     [Herbert, McCarthy]\n",
              "2           2  ...      [Herbert, Herbert]\n",
              "3           3  ...  [Norris, Julian, Zola]\n",
              "4           4  ...    [Buechner, Buechner]\n",
              "\n",
              "[5 rows x 7 columns]"
            ]
          },
          "metadata": {
            "tags": []
          },
          "execution_count": 24
        }
      ]
    },
    {
      "cell_type": "code",
      "metadata": {
        "id": "e9mssdMxv_3_"
      },
      "source": [
        "df_final.to_csv('/gdrive/My Drive/NLP-datasets/final_data/compiled_he-she.csv')"
      ],
      "execution_count": 25,
      "outputs": []
    },
    {
      "cell_type": "code",
      "metadata": {
        "id": "GpwdjWVny9Ro"
      },
      "source": [
        ""
      ],
      "execution_count": null,
      "outputs": []
    }
  ]
}